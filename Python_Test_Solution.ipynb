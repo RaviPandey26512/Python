{
  "nbformat": 4,
  "nbformat_minor": 0,
  "metadata": {
    "colab": {
      "provenance": []
    },
    "kernelspec": {
      "name": "python3",
      "display_name": "Python 3"
    },
    "language_info": {
      "name": "python"
    }
  },
  "cells": [
    {
      "cell_type": "code",
      "source": [],
      "metadata": {
        "id": "Ycp08c83vZK5"
      },
      "execution_count": null,
      "outputs": []
    },
    {
      "cell_type": "markdown",
      "source": [
        "**Question 1-** Create the dictionary given below and print the value of key \"Virat\" from the below *dictionary*\n",
        "\n"
      ],
      "metadata": {
        "id": "K5TqhmyFp8pU"
      }
    },
    {
      "cell_type": "code",
      "execution_count": null,
      "metadata": {
        "id": "9bXqoid-pR-e"
      },
      "outputs": [],
      "source": [
        "sampleDict = {\n",
        "    \"Country\": {\n",
        "        \"Indian Cricket Team\": {\n",
        "            \"name\": [\"Rohit, Virat\", \"Rahul\", \"shami\",\"Bumrah\"],\n",
        "            \"Runs\": {\n",
        "                \"Rohit\": 47,\n",
        "                \"Virat\": 54,\n",
        "                \"Rahul\":66\n",
        "            }\n",
        "        }\n",
        "    }\n",
        "}"
      ]
    },
    {
      "cell_type": "code",
      "source": [
        "sampleDict = {\"Country\": {\"Indian Cricket Team\": {\"name\": [\"Rohit, Virat\", \"Rahul\", \"shami\",\"Bumrah\"], \"Runs\": {\"Rohit\": 47,\"Virat\": 54,\"Rahul\":66}}}}"
      ],
      "metadata": {
        "id": "aGBpBPP9CbvR"
      },
      "execution_count": null,
      "outputs": []
    },
    {
      "cell_type": "code",
      "source": [
        "#Syntax\n",
        "\n",
        "dictionaryname[keyname][keyname inside the nested dictionary]"
      ],
      "metadata": {
        "id": "nQwK4DeKDses"
      },
      "execution_count": null,
      "outputs": []
    },
    {
      "cell_type": "code",
      "source": [
        "print(sampleDict[\"Country\"][\"Indian Cricket Team\"][\"Runs\"][\"Virat\"])"
      ],
      "metadata": {
        "colab": {
          "base_uri": "https://localhost:8080/"
        },
        "id": "80a716eEDlYv",
        "outputId": "982ae899-da03-446f-b2d8-fa19172ef145"
      },
      "execution_count": null,
      "outputs": [
        {
          "output_type": "stream",
          "name": "stdout",
          "text": [
            "54\n"
          ]
        }
      ]
    },
    {
      "cell_type": "markdown",
      "source": [
        "**Question -2** Write a Python program to check if value 2700 exists in the following dictionary.\n",
        "\n"
      ],
      "metadata": {
        "id": "rQE4-FKeqzl5"
      }
    },
    {
      "cell_type": "code",
      "source": [
        "sample_dict = {'a': 100, 'b': 2800, 'c': 300}"
      ],
      "metadata": {
        "id": "EEpB9SiUq2It"
      },
      "execution_count": null,
      "outputs": []
    },
    {
      "cell_type": "code",
      "source": [
        "if 2700 in sample_dict.values():\n",
        "  print(\"2700 present in our dictionary\")\n",
        "else:\n",
        "  print(\"Not present in our dictionary\")"
      ],
      "metadata": {
        "colab": {
          "base_uri": "https://localhost:8080/"
        },
        "id": "TVc7v4UItblG",
        "outputId": "4e46887e-c1b3-4814-cd8f-3791a9189096"
      },
      "execution_count": null,
      "outputs": [
        {
          "output_type": "stream",
          "name": "stdout",
          "text": [
            "Not present in our dictionary\n"
          ]
        }
      ]
    },
    {
      "cell_type": "code",
      "source": [],
      "metadata": {
        "id": "DeTrZBltFixm"
      },
      "execution_count": null,
      "outputs": []
    },
    {
      "cell_type": "markdown",
      "source": [
        "**Question -3** Write a program to add a list of elements into a given set."
      ],
      "metadata": {
        "id": "vZ4pWYy8rKYj"
      }
    },
    {
      "cell_type": "code",
      "source": [
        "sample_set = {\"Surya\", \"Kapil\", \"MSD\"}\n",
        "sample_list = [\"Sachin\", \"Siraj\", \"Sehwag\"]"
      ],
      "metadata": {
        "id": "TVrAe0QsrLSk"
      },
      "execution_count": null,
      "outputs": []
    },
    {
      "cell_type": "code",
      "source": [
        "sample_set.update(sample_list)\n",
        "print(sample_set)"
      ],
      "metadata": {
        "colab": {
          "base_uri": "https://localhost:8080/"
        },
        "id": "-5oRP1o9Fse3",
        "outputId": "63dc42ec-c957-4cda-947c-4c7d91c84ae4"
      },
      "execution_count": null,
      "outputs": [
        {
          "output_type": "stream",
          "name": "stdout",
          "text": [
            "{'Sehwag', 'MSD', 'Kapil', 'Sachin', 'Surya', 'Siraj'}\n"
          ]
        }
      ]
    },
    {
      "cell_type": "code",
      "source": [],
      "metadata": {
        "id": "TwaeSZrNtf1S"
      },
      "execution_count": null,
      "outputs": []
    },
    {
      "cell_type": "markdown",
      "source": [
        "**Question -4** Write a python program to return a new set of identical items from two sets"
      ],
      "metadata": {
        "id": "rF_EfQyJryXW"
      }
    },
    {
      "cell_type": "code",
      "source": [
        "set1 = {10, 20, 30, 40, 50}\n",
        "set2 = {30, 40, 50, 60, 70}"
      ],
      "metadata": {
        "id": "PPiFM9OCr4vb"
      },
      "execution_count": null,
      "outputs": []
    },
    {
      "cell_type": "code",
      "source": [
        "print(set1.intersection(set2))"
      ],
      "metadata": {
        "colab": {
          "base_uri": "https://localhost:8080/"
        },
        "id": "dOJELG1CGeqn",
        "outputId": "bf883783-c279-41d5-e4ba-3233d5ad039b"
      },
      "execution_count": null,
      "outputs": [
        {
          "output_type": "stream",
          "name": "stdout",
          "text": [
            "{40, 50, 30}\n"
          ]
        }
      ]
    },
    {
      "cell_type": "code",
      "source": [],
      "metadata": {
        "id": "QOfxtv7rtlbJ"
      },
      "execution_count": null,
      "outputs": []
    },
    {
      "cell_type": "markdown",
      "source": [
        "**Question -5** Given a list of numbers. write a program to turn every item of a list into its square.\n",
        "\n"
      ],
      "metadata": {
        "id": "vxQny4XfsQFA"
      }
    },
    {
      "cell_type": "code",
      "source": [
        "numbers = [1, 2, 3, 4, 5, 6, 7]\n"
      ],
      "metadata": {
        "id": "s5gQVizJsRBo"
      },
      "execution_count": null,
      "outputs": []
    },
    {
      "cell_type": "code",
      "source": [
        "result=[]\n",
        "for x in numbers:\n",
        "  result.append(x*x)\n",
        "\n",
        "print(result)\n",
        "\n"
      ],
      "metadata": {
        "colab": {
          "base_uri": "https://localhost:8080/"
        },
        "id": "49JmABtZHDXn",
        "outputId": "df376bf3-dde3-4e78-fcff-9707da553bab"
      },
      "execution_count": null,
      "outputs": [
        {
          "output_type": "stream",
          "name": "stdout",
          "text": [
            "[1, 4, 9, 16, 25, 36, 49]\n"
          ]
        }
      ]
    },
    {
      "cell_type": "code",
      "source": [
        "result1=[]\n",
        "for x in numbers:\n",
        "  result1.append(x**2)\n",
        "\n",
        "print(result1)"
      ],
      "metadata": {
        "colab": {
          "base_uri": "https://localhost:8080/"
        },
        "id": "VpI33II5Ic0V",
        "outputId": "e5d419ba-67ed-4308-ec77-86f9528d0583"
      },
      "execution_count": null,
      "outputs": [
        {
          "output_type": "stream",
          "name": "stdout",
          "text": [
            "[1, 4, 9, 16, 25, 36, 49]\n"
          ]
        }
      ]
    },
    {
      "cell_type": "code",
      "source": [],
      "metadata": {
        "id": "hCXd5OdftpPh"
      },
      "execution_count": null,
      "outputs": []
    },
    {
      "cell_type": "markdown",
      "source": [
        "**Question -6** Write a program to add item 7000 after 6000 in the following Python List\n",
        "\n"
      ],
      "metadata": {
        "id": "cBGiwn7FspMl"
      }
    },
    {
      "cell_type": "code",
      "source": [
        "list1 = [10, 20, [300, 400, [5000, 6000], 500], 30, 40]\n"
      ],
      "metadata": {
        "id": "MvEYjOrnsqB6"
      },
      "execution_count": null,
      "outputs": []
    },
    {
      "cell_type": "code",
      "source": [
        "list1[0]"
      ],
      "metadata": {
        "colab": {
          "base_uri": "https://localhost:8080/"
        },
        "id": "yKzjc2nvJDBh",
        "outputId": "876ea1b7-172e-4e3f-ec00-68c5fdc146cf"
      },
      "execution_count": null,
      "outputs": [
        {
          "output_type": "execute_result",
          "data": {
            "text/plain": [
              "10"
            ]
          },
          "metadata": {},
          "execution_count": 23
        }
      ]
    },
    {
      "cell_type": "code",
      "source": [
        "list1[1]"
      ],
      "metadata": {
        "colab": {
          "base_uri": "https://localhost:8080/"
        },
        "id": "d1O7G0hQJOWY",
        "outputId": "49b58060-13d8-4229-dbc8-f500b2e8dfa2"
      },
      "execution_count": null,
      "outputs": [
        {
          "output_type": "execute_result",
          "data": {
            "text/plain": [
              "20"
            ]
          },
          "metadata": {},
          "execution_count": 24
        }
      ]
    },
    {
      "cell_type": "code",
      "source": [
        "list1[2][2]"
      ],
      "metadata": {
        "colab": {
          "base_uri": "https://localhost:8080/"
        },
        "id": "0EJymf-fJQ6O",
        "outputId": "c01d3d0e-8680-4940-bde4-67f595331580"
      },
      "execution_count": null,
      "outputs": [
        {
          "output_type": "execute_result",
          "data": {
            "text/plain": [
              "[5000, 6000]"
            ]
          },
          "metadata": {},
          "execution_count": 28
        }
      ]
    },
    {
      "cell_type": "code",
      "source": [
        "list1[2][2].append(7000)"
      ],
      "metadata": {
        "id": "3MV-w7nPJ7fR"
      },
      "execution_count": null,
      "outputs": []
    },
    {
      "cell_type": "code",
      "source": [
        "print(list1)"
      ],
      "metadata": {
        "colab": {
          "base_uri": "https://localhost:8080/"
        },
        "id": "Lhw1vElYKFZn",
        "outputId": "a3dc795c-f473-4ce0-f7ea-60ca900489b0"
      },
      "execution_count": null,
      "outputs": [
        {
          "output_type": "stream",
          "name": "stdout",
          "text": [
            "[10, 20, [300, 400, [5000, 6000, 7000], 500], 30, 40]\n"
          ]
        }
      ]
    },
    {
      "cell_type": "code",
      "source": [
        "list1[2][2]"
      ],
      "metadata": {
        "colab": {
          "base_uri": "https://localhost:8080/"
        },
        "id": "lPjhRzFrKKkT",
        "outputId": "d61cdc8e-c3c1-4ded-ff03-d24eabc5a2b7"
      },
      "execution_count": null,
      "outputs": [
        {
          "output_type": "execute_result",
          "data": {
            "text/plain": [
              "[5000, 6000, 7000]"
            ]
          },
          "metadata": {},
          "execution_count": 31
        }
      ]
    },
    {
      "cell_type": "code",
      "source": [
        "list1 = [10, 20, [300, 400, [5000, [8000,7000,6000]], 500], 30, 40]\n"
      ],
      "metadata": {
        "id": "YW6A-Km4KQvn"
      },
      "execution_count": null,
      "outputs": []
    },
    {
      "cell_type": "code",
      "source": [
        "list1[2][2][1][1]"
      ],
      "metadata": {
        "colab": {
          "base_uri": "https://localhost:8080/"
        },
        "id": "LTKWfxhDKWE3",
        "outputId": "d7ed9c67-dcba-47b2-cefa-abfe4f010368"
      },
      "execution_count": null,
      "outputs": [
        {
          "output_type": "execute_result",
          "data": {
            "text/plain": [
              "7000"
            ]
          },
          "metadata": {},
          "execution_count": 34
        }
      ]
    }
  ]
}